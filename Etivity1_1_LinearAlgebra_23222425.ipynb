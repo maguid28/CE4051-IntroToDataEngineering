{
  "cells": [
    {
      "cell_type": "markdown",
      "metadata": {
        "id": "view-in-github",
        "colab_type": "text"
      },
      "source": [
        "<a href=\"https://colab.research.google.com/github/maguid28/CE4051-IntroToDataEngineering/blob/main/Etivity1_1_LinearAlgebra_23222425.ipynb\" target=\"_parent\"><img src=\"https://colab.research.google.com/assets/colab-badge.svg\" alt=\"Open In Colab\"/></a>"
      ]
    },
    {
      "cell_type": "markdown",
      "metadata": {
        "id": "MPyoIez-k-S1"
      },
      "source": [
        "### Your details"
      ]
    },
    {
      "cell_type": "markdown",
      "metadata": {
        "id": "1nLiVOBak-S4"
      },
      "source": [
        "Your Name: Daniel Maguire"
      ]
    },
    {
      "cell_type": "markdown",
      "metadata": {
        "id": "MQfMeFmck-S5"
      },
      "source": [
        "Your ID number: 23222425"
      ]
    },
    {
      "cell_type": "markdown",
      "metadata": {
        "id": "5ZBNHZqFk-S6"
      },
      "source": [
        "# Task 1"
      ]
    },
    {
      "cell_type": "markdown",
      "metadata": {
        "id": "Z2NcOQzek-S6"
      },
      "source": [
        "## Approach\n",
        "\n",
        "(Describe the approaches you took, etc.)\n",
        "\n",
        "  ### Scalar Multiplication:\n",
        "  Iterated through each element in the vector and multiplied it by the given scalar, scaling each value of the vector by a constant factor.\n",
        "\n",
        "  ### Vector Addition & Subtraction:\n",
        "  If statement to check if the two vectors were of the same size first. If they were, I added or subtracted their corresponding elements.\n",
        "  ### Dot Product:\n",
        "  First checked size compatibility, then multiplied corresponding elements and added them together.\n",
        "  ### Cross Product:\n",
        "  If statement to check that vectors are 3D vectors. Used the cross product formula to return cross product.\n",
        "\n",
        "  ### Matrix Size:\n",
        "  Returned the number of rows and columns.\n",
        "\n",
        "  ### Matrix Addition & Subtraction:\n",
        "  Checked if the two matrices had the same dimensions. If they are, add (or subtract) their corresponding elements.\n",
        "\n",
        "  ### Matrix-Vector Multiplication:\n",
        "  Checked that the matrix column count matched the vectors size, then performed the multiplication.\n",
        "\n",
        "  ### Matrix-Matrix Multiplication:\n",
        "  Checked if the number of columns in the first matrix matched the number of rows in the second. Then, performed matrix multiplication.\n",
        "\n",
        "  ### Matrix Determinant:\n",
        "  Checked if a 2x2 matrix was passed in. Used the formula for 2x2 matrixes.\n",
        "\n",
        "  ### Matrix Inverse:\n",
        "  Used the formulas for 2x2 matrices. Called the determinant function previously created. Checked if matrix is 0 to see if it can be inverted.\n",
        "\n",
        "  "
      ]
    },
    {
      "cell_type": "markdown",
      "metadata": {
        "id": "EZamleSrk-S7"
      },
      "source": [
        "## Manual Calculations\n",
        "\n",
        "(If you used manual calculations to verify your code, mention them here)\n",
        "\n"
      ]
    },
    {
      "cell_type": "markdown",
      "metadata": {
        "id": "tTiOhIePk-S8"
      },
      "source": [
        "## Code"
      ]
    },
    {
      "cell_type": "markdown",
      "source": [
        "###a. Vector Operations"
      ],
      "metadata": {
        "id": "CmERvPyhzr_M"
      }
    },
    {
      "cell_type": "code",
      "execution_count": 1,
      "metadata": {
        "id": "yn0uybqqk-S8"
      },
      "outputs": [],
      "source": [
        "def scalar_multiply(vector,scalar):\n",
        "    result = []\n",
        "    for value in vector:\n",
        "        result.append(scalar * value)\n",
        "    return result\n",
        "\n",
        "\n",
        "def add_vectors(vector1,vector2):\n",
        "    if len(vector1) != len(vector2):\n",
        "        print(\"Error: Vectors are not of the same size.\")\n",
        "        return\n",
        "    result = []\n",
        "    for i in range(len(vector1)):\n",
        "        result.append(vector1[i] + vector2[i])\n",
        "    return result\n",
        "\n",
        "def subtract_vectors(vector1,vector2):\n",
        "    if len(vector1) != len(vector2):\n",
        "        print(\"Error: Vectors are not of the same size.\")\n",
        "        return\n",
        "    result = []\n",
        "    for i in range(len(vector1)):\n",
        "        result.append(vector1[i] - vector2[i])\n",
        "    return result\n",
        "\n",
        "def dot_product(vector1,vector2):\n",
        "    if len(vector1) != len(vector2):\n",
        "        print(\"Error: Vectors are not of the same size.\")\n",
        "        return\n",
        "    result = 0\n",
        "    for i in range(len(vector1)):\n",
        "        result += vector1[i] * vector2[i]\n",
        "    return result\n",
        "\n",
        "def cross_product(vector1,vector2):\n",
        "    if len(vector1) != 3 or len(vector2) != 3:\n",
        "        print(\"Error: Cross product is defined only for 3-vectors.\")\n",
        "        return\n",
        "    x = (vector1[1] * vector2[2]) - (vector1[2] * vector2[1])\n",
        "    y = (vector1[2] * vector2[0]) - (vector1[0] * vector2[2])\n",
        "    z = (vector1[0] * vector2[1]) - (vector1[1] * vector2[0])\n",
        "    result = [x,y,z]\n",
        "    return result"
      ]
    },
    {
      "cell_type": "markdown",
      "source": [
        "### b. Matrix Operations"
      ],
      "metadata": {
        "id": "iTE6DK_Y9iYB"
      }
    },
    {
      "cell_type": "code",
      "source": [
        "def matrix_size(matrix):\n",
        "    rows = len(matrix)\n",
        "    columns = len(matrix[0])\n",
        "    return (rows, columns)\n",
        "\n",
        "def add_matrices(matrix1, matrix2):\n",
        "    if matrix_size(matrix1) != matrix_size(matrix2):\n",
        "        print(\"Error: Matrices are not the same size.\")\n",
        "        return\n",
        "    result = []\n",
        "    for i in range(len(matrix1)):\n",
        "        row = []\n",
        "        for j in range(len(matrix1[0])):\n",
        "            row.append(matrix1[i][j] + matrix2[i][j])\n",
        "        result.append(row)\n",
        "    return result\n",
        "\n",
        "def subtract_matrices(matrix1, matrix2):\n",
        "    if matrix_size(matrix1) != matrix_size(matrix2):\n",
        "        print(\"Error: Matrices are not the same size\")\n",
        "        return\n",
        "    result = []\n",
        "    for i in range(len(matrix1)):\n",
        "        row = []\n",
        "        for j in range(len(matrix1[0])):\n",
        "            row.append(matrix1[i][j] - matrix2[i][j])\n",
        "        result.append(row)\n",
        "    return result\n",
        "\n",
        "def matrix_vector_multiply(matrix, vector):\n",
        "    if len(matrix[0]) != len(vector):\n",
        "        print(\"Error: Wrong matrix or vector sizes\")\n",
        "        return\n",
        "    result = []\n",
        "    for i in range(len(matrix)):\n",
        "        sum = 0\n",
        "        for j in range(len(vector)):\n",
        "            sum += matrix[i][j] * vector[j]\n",
        "        result.append(sum)\n",
        "    return result\n",
        "\n",
        "def matrix_multiply(matrix1, matrix2):\n",
        "    if len(matrix1[0]) != len(matrix2):\n",
        "        print(\"Error: Wrong matrix sizes\")\n",
        "        return\n",
        "    result = []\n",
        "    for i in range(len(matrix1)):\n",
        "        row = []\n",
        "        for j in range(len(matrix2[0])):\n",
        "            sum = 0\n",
        "            for k in range(len(matrix1[0])):\n",
        "                sum += matrix1[i][k] * matrix2[k][j]\n",
        "            row.append(sum)\n",
        "        result.append(row)\n",
        "    return result\n",
        "\n",
        "def determinant(matrix):\n",
        "    if len(matrix) != 2 or len(matrix[0]) != 2:\n",
        "        print(\"Error: Only 2x2 matrices are supported\")\n",
        "        return\n",
        "    det = matrix[0][0] * matrix[1][1] - matrix[0][1] * matrix[1][0]\n",
        "    return det\n",
        "\n",
        "def inverse(matrix):\n",
        "    det = determinant(matrix)\n",
        "    if det == 0:\n",
        "        print(\"Error: matrix cannot be inverted\")\n",
        "        return\n",
        "    inv_det = 1 / det\n",
        "    result = [\n",
        "        [matrix[1][1] * inv_det, -matrix[0][1] * inv_det],\n",
        "        [-matrix[1][0] * inv_det, matrix[0][0] * inv_det]\n",
        "    ]\n",
        "    return result"
      ],
      "metadata": {
        "id": "YHr6vUGw9eDV"
      },
      "execution_count": 2,
      "outputs": []
    },
    {
      "cell_type": "markdown",
      "source": [
        "### Examples"
      ],
      "metadata": {
        "id": "FfJodxx79qtn"
      }
    },
    {
      "cell_type": "code",
      "source": [
        "# Vector Examples\n",
        "print('scalar_multiply =')\n",
        "print(scalar_multiply([1, 2, 3], 4))\n",
        "print('add_vectors =')\n",
        "print(add_vectors([1, 2, 3], [3, 2, 1]))\n",
        "print('subtract_vectors =')\n",
        "print(subtract_vectors([1, 2, 3], [3, 2, 1]))\n",
        "print('dot_product =')\n",
        "print(dot_product([1, 2, 3], [3, 2, 1]))\n",
        "print('cross_product =')\n",
        "print(cross_product([1, 2, 3], [3, 2, 1]))\n",
        "\n",
        "# Matrix operations\n",
        "matrix1 = [[1, 2], [3, 4]]\n",
        "matrix2 = [[2, 1], [4, 3]]\n",
        "vector = [2, 3]\n",
        "print('matrix_size =')\n",
        "print(matrix_size(matrix1))\n",
        "print('add_matrices =')\n",
        "print(add_matrices(matrix1, matrix2))\n",
        "print('subtract_matrices =')\n",
        "print(subtract_matrices(matrix1, matrix2))\n",
        "print('matrix_vector_multiply =')\n",
        "print(matrix_vector_multiply(matrix1, vector))\n",
        "print('matrix_multiply =')\n",
        "print(matrix_multiply(matrix1, matrix2))\n",
        "print('determinant =')\n",
        "print(determinant(matrix1))\n",
        "print('inverse =')\n",
        "print(inverse(matrix1))\n",
        "\n",
        "\n"
      ],
      "metadata": {
        "colab": {
          "base_uri": "https://localhost:8080/"
        },
        "id": "ctJylP4swxwp",
        "outputId": "c2d4370c-da98-41d0-e28b-5cf97687d8e9"
      },
      "execution_count": 3,
      "outputs": [
        {
          "output_type": "stream",
          "name": "stdout",
          "text": [
            "scalar_multiply =\n",
            "[4, 8, 12]\n",
            "add_vectors =\n",
            "[4, 4, 4]\n",
            "subtract_vectors =\n",
            "[-2, 0, 2]\n",
            "dot_product =\n",
            "10\n",
            "cross_product =\n",
            "[-4, 8, -4]\n",
            "matrix_size =\n",
            "(2, 2)\n",
            "add_matrices =\n",
            "[[3, 3], [7, 7]]\n",
            "subtract_matrices =\n",
            "[[-1, 1], [-1, 1]]\n",
            "matrix_vector_multiply =\n",
            "[8, 18]\n",
            "matrix_multiply =\n",
            "[[10, 7], [22, 15]]\n",
            "determinant =\n",
            "-2\n",
            "inverse =\n",
            "[[-2.0, 1.0], [1.5, -0.5]]\n"
          ]
        }
      ]
    },
    {
      "cell_type": "markdown",
      "metadata": {
        "id": "Bb5Qy7jCk-S9"
      },
      "source": [
        "## Discussion\n",
        "\n",
        "Provide any discussion elements"
      ]
    }
  ],
  "metadata": {
    "kernelspec": {
      "display_name": "Python 3 (ipykernel)",
      "language": "python",
      "name": "python3"
    },
    "language_info": {
      "codemirror_mode": {
        "name": "ipython",
        "version": 3
      },
      "file_extension": ".py",
      "mimetype": "text/x-python",
      "name": "python",
      "nbconvert_exporter": "python",
      "pygments_lexer": "ipython3",
      "version": "3.9.11"
    },
    "colab": {
      "provenance": [],
      "toc_visible": true,
      "include_colab_link": true
    }
  },
  "nbformat": 4,
  "nbformat_minor": 0
}