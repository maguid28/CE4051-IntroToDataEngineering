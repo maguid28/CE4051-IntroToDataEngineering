{
  "cells": [
    {
      "cell_type": "markdown",
      "metadata": {
        "id": "view-in-github",
        "colab_type": "text"
      },
      "source": [
        "<a href=\"https://colab.research.google.com/github/maguid28/CE4051-IntroToDataEngineering/blob/main/Etivity3_Adaline_23222425.ipynb\" target=\"_parent\"><img src=\"https://colab.research.google.com/assets/colab-badge.svg\" alt=\"Open In Colab\"/></a>"
      ]
    },
    {
      "cell_type": "markdown",
      "metadata": {
        "id": "PY44gafYZlj2"
      },
      "source": [
        "### Student details"
      ]
    },
    {
      "cell_type": "markdown",
      "metadata": {
        "id": "zUocXxpaZlj8"
      },
      "source": [
        "Student name: Daniel Maguire"
      ]
    },
    {
      "cell_type": "markdown",
      "metadata": {
        "id": "LUQbrqmRZlj9"
      },
      "source": [
        "Student ID: 23222425"
      ]
    },
    {
      "cell_type": "markdown",
      "metadata": {
        "id": "MjC54knmZlj9"
      },
      "source": [
        "# Task 1: Adaline and Gradient Descent\n",
        "\n",
        "* Iris Data Data obtained from https://archive.ics.uci.edu/ml/datasets/iris\n"
      ]
    },
    {
      "cell_type": "code",
      "execution_count": null,
      "metadata": {
        "id": "5d5zbo29Zlj-"
      },
      "outputs": [],
      "source": [
        "# import dependencies\n",
        "import numpy as np"
      ]
    },
    {
      "cell_type": "markdown",
      "metadata": {
        "id": "f-uL09hvZlkB"
      },
      "source": [
        "### Adaline class (provided)\n",
        "From: https://sebastianraschka.com/Articles/2015_singlelayer_neurons.html"
      ]
    },
    {
      "cell_type": "code",
      "execution_count": null,
      "metadata": {
        "id": "utpCOoIsZlkB"
      },
      "outputs": [],
      "source": [
        "class AdalineGD(object):\n",
        "\n",
        "    def __init__(self, eta=0.01, epochs=50):\n",
        "        self.eta = eta\n",
        "        self.epochs = epochs\n",
        "\n",
        "    def train(self, X, y):\n",
        "\n",
        "        self.w_ = np.zeros(1 + X.shape[1])\n",
        "        self.cost_ = []\n",
        "\n",
        "        for i in range(self.epochs):\n",
        "            output = self.net_input(X)\n",
        "            errors = (y - output)\n",
        "            self.w_[1:] += self.eta * X.T.dot(errors)\n",
        "            self.w_[0] += self.eta * errors.sum()\n",
        "            cost = (errors**2).sum() / 2.0\n",
        "            self.cost_.append(cost)\n",
        "        return self\n",
        "\n",
        "    def net_input(self, X):\n",
        "        return np.dot(X, self.w_[1:]) + self.w_[0]\n",
        "\n",
        "    def activation(self, X):\n",
        "        return self.net_input(X)\n",
        "\n",
        "    def predict(self, X):\n",
        "        return np.where(self.activation(X) >= 0.0, 1, -1)"
      ]
    },
    {
      "cell_type": "markdown",
      "metadata": {
        "id": "dWuXPgDZZlkC"
      },
      "source": [
        "### Read the data\n",
        "(provided - should be completed in previous E-tivity)"
      ]
    },
    {
      "cell_type": "code",
      "execution_count": null,
      "metadata": {
        "id": "Exwwp9T5ZlkD"
      },
      "outputs": [],
      "source": [
        "import pandas as pd\n",
        "df = pd.read_csv('iris_data.csv', header=0)\n",
        "\n",
        "# setosa and versicolor\n",
        "y = df.iloc[0:100, 4].values\n",
        "y = np.where(y == 'Iris-setosa', -1, 1)\n",
        "\n",
        "# sepal length and petal length\n",
        "X = df.iloc[0:100, [0,2]].values"
      ]
    },
    {
      "cell_type": "code",
      "execution_count": null,
      "metadata": {
        "id": "iZ1JBHoAZlkE",
        "outputId": "3254bd17-5bed-486a-9774-cea2538fe71c"
      },
      "outputs": [
        {
          "data": {
            "image/png": "[encoded data removed]",
            "text/plain": [
              "<Figure size 432x288 with 1 Axes>"
            ]
          },
          "metadata": {
            "needs_background": "light"
          },
          "output_type": "display_data"
        }
      ],
      "source": [
        "import matplotlib.pyplot as plt\n",
        "plt.scatter(X[:,0], X[:,1],c=y);"
      ]
    },
    {
      "cell_type": "markdown",
      "metadata": {
        "id": "ry7m1Nl3ZlkF"
      },
      "source": [
        "### Examine the impact of learning rate\n",
        "\n",
        "1. Train the gradient descent algorithm with eta = 0.01, eta = 0.001, eta = 0.0001. Plot the cost as a function of epoch in each case. Note: it is useful to plot some on a log scale\n",
        "2. Explain what is happening in each case?\n",
        "3. How many epochs (approx) for convergence with eta = 0.0001?\n",
        "4. Can you find a learning rate that converges quicker, but without overshoot?\n",
        "5. The learning rate can be very sensitive, a very small change can lead to overshoot. For example, have a look at what happens between a learnign rate of 0.00045 and 0.0005, just a 5e-5 change\n",
        "\n",
        "Please note that this is just about the simplest gradient descent implementation posssible. There are much more advanced algorithms that are typically used that improve robustness, avoid local minima, avoid overshoot and improve convergence times. So it's not all as \"on a knife edge\" as this example. But, in principle, picking a learning rate is still an important topic of machine learning."
      ]
    },
    {
      "cell_type": "code",
      "execution_count": null,
      "metadata": {
        "id": "gmbbzIYuZlkG"
      },
      "outputs": [],
      "source": [
        "################################\n",
        "# Your code here"
      ]
    },
    {
      "cell_type": "markdown",
      "metadata": {
        "id": "d59Zpak5ZlkH"
      },
      "source": [
        "### Feature Scaling\n",
        "\n",
        "A problem with features is that they can be on a different scale, and gradient descent can struggle with this. Feature scaling can reduce the sensitivity to learning rate, and can lead to faster convergence. One of the more common approaches to feature scaling is standardisation, given by:\n",
        "\n",
        "\\begin{equation}\n",
        "\\textbf{x}_{j,std} = \\frac{\\textbf{x}_j - \\mu_j}{\\sigma_j}\n",
        "\\end{equation}\n",
        "\n",
        "where $\\mu_j$ is the mean and $\\sigma_j$ is the standard deviation of $\\textbf{x}_j$. Note that we don't have a good definition for the subtraction of a vector and a scalar, but here by $\\textbf{x}_j - \\mu_j$ we mean the subtraction of $\\mu_j$ from each element of $\\textbf{x}_j$.\n",
        "\n",
        "\n",
        "Ref: https://sebastianraschka.com/Articles/2015_singlelayer_neurons.html\n",
        "\n",
        "1. Implement feature scaling on the data, and retrain the algorithm\n",
        "2. Print the residual cost in each iteration\n",
        "3. Describe how it compares to before feature scaling\n",
        "4. Using many random inputs (e.g. 5000) plot to see if you can see the decision boundary for the feature scaled case. In this case, you will not be using the pandas dataframe, so it is probably better to use matplotlib\n",
        "\n",
        "Hint: in this case, the training data was scaled, so your test data has to be scaled as well."
      ]
    },
    {
      "cell_type": "code",
      "execution_count": null,
      "metadata": {
        "id": "FBe5oV3vZlkH"
      },
      "outputs": [],
      "source": [
        "################################\n",
        "# Your code here"
      ]
    }
  ],
  "metadata": {
    "kernelspec": {
      "display_name": "Python 3 (ipykernel)",
      "language": "python",
      "name": "python3"
    },
    "language_info": {
      "codemirror_mode": {
        "name": "ipython",
        "version": 3
      },
      "file_extension": ".py",
      "mimetype": "text/x-python",
      "name": "python",
      "nbconvert_exporter": "python",
      "pygments_lexer": "ipython3",
      "version": "3.9.13"
    },
    "colab": {
      "provenance": [],
      "include_colab_link": true
    }
  },
  "nbformat": 4,
  "nbformat_minor": 0
}